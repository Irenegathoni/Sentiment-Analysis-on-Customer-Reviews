{
 "cells": [
  {
   "cell_type": "code",
   "execution_count": null,
   "id": "b3fed3a1-8663-4784-95e8-c45821736fb9",
   "metadata": {},
   "outputs": [],
   "source": [
    "import pandas as pd\n",
    "import re\n",
    "import string\n"
   ]
  },
  {
   "cell_type": "code",
   "execution_count": null,
   "id": "56874937-c8a8-4f34-8e4a-f2103cde1f09",
   "metadata": {},
   "outputs": [],
   "source": [
    "# Loading the file as raw text\n",
    "with open(\"C:\\\\Users\\\\hp\\\\Downloads\\\\nlpanalytics\\\\sentiment-analysis.csv\", \"r\", encoding=\"utf-8\") as f:\n",
    "    lines = f.readlines()\n",
    "\n",
    "# Split lines by comma\n",
    "split_lines = [line.strip().split(\",\") for line in lines]\n",
    "\n",
    "# Create proper DataFrame\n",
    "columns = [col.strip() for col in split_lines[0]]\n",
    "data = split_lines[1:]\n",
    "\n",
    "df = pd.DataFrame(data, columns=columns)\n",
    "\n",
    "df.head()\n",
    "\n"
   ]
  }
 ],
 "metadata": {
  "kernelspec": {
   "display_name": "Python (tf_env)",
   "language": "python",
   "name": "tf_env"
  },
  "language_info": {
   "codemirror_mode": {
    "name": "ipython",
    "version": 3
   },
   "file_extension": ".py",
   "mimetype": "text/x-python",
   "name": "python",
   "nbconvert_exporter": "python",
   "pygments_lexer": "ipython3",
   "version": "3.10.18"
  }
 },
 "nbformat": 4,
 "nbformat_minor": 5
}
